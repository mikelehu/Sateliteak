{
 "cells": [
  {
   "cell_type": "markdown",
   "metadata": {},
   "source": [
    "# SAT_Time\n",
    "\n",
    "- Mjd"
   ]
  },
  {
   "cell_type": "code",
   "execution_count": 18,
   "metadata": {},
   "outputs": [
    {
     "data": {
      "text/plain": [
       "\"nire testa\\nMjd(2006,3,14,0,0,0.0)\\n\\n\""
      ]
     },
     "execution_count": 18,
     "metadata": {},
     "output_type": "execute_result"
    }
   ],
   "source": [
    "function Mjd(Year::Int,Month::Int,Day::Int,Hour::Int,Min::Int,Sec)\n",
    "\"\"\"\n",
    "  Purpose: Modified Julian Date from calendar date and time\n",
    "  \n",
    "  Input: Year,Month,Day,Hour,Min,Sec\n",
    "  Output: Modified Julian Date\n",
    "\n",
    "\"\"\"\n",
    "\n",
    "  if (Month<=2) \n",
    "      Month+=12\n",
    "      Year-=1\n",
    "  end\n",
    "  \n",
    "  if ( (10000*Year+100*Month+Day) <= 15821004 )\n",
    "    b = -2 + ((Year+4716)/4) - 1179      #Julian calendar \n",
    "  else\n",
    "    b = trunc(Int,(Year/400)-(Year/100)+(Year/4))  #Gregorian calendar\n",
    "  end\n",
    "\n",
    "  MjdMidnight=365*Year - 679004 + b + trunc(Int,(30.6001*(Month+1)))+Day\n",
    "  FracOfDay=(Hour+Min/60.0+Sec/3600.0)/24.0 \n",
    "\n",
    "  return MjdMidnight + FracOfDay\n",
    "\n",
    "end\n",
    "\n",
    "\"\"\"\n",
    "nire testa\n",
    "Mjd(2006,3,14,0,0,0.0)\n",
    "Erantzuna: 53808.0 (3.2 ariketa)\n",
    "\n",
    "\"\"\""
   ]
  },
  {
   "cell_type": "code",
   "execution_count": null,
   "metadata": {},
   "outputs": [],
   "source": []
  }
 ],
 "metadata": {
  "@webio": {
   "lastCommId": null,
   "lastKernelId": null
  },
  "kernelspec": {
   "display_name": "Julia 1.5.3",
   "language": "julia",
   "name": "julia-1.5"
  },
  "language_info": {
   "file_extension": ".jl",
   "mimetype": "application/julia",
   "name": "julia",
   "version": "1.5.3"
  }
 },
 "nbformat": 4,
 "nbformat_minor": 2
}
