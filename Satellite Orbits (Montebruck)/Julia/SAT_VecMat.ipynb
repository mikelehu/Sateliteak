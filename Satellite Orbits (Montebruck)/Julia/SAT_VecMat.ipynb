{
 "cells": [
  {
   "cell_type": "markdown",
   "metadata": {},
   "source": [
    "# SAT_VecMat\n",
    "\n",
    "- Elementary rotations: R_x(), R_y(), R_z()  "
   ]
  },
  {
   "cell_type": "code",
   "execution_count": 1,
   "metadata": {},
   "outputs": [],
   "source": [
    "using LinearAlgebra"
   ]
  },
  {
   "cell_type": "markdown",
   "metadata": {},
   "source": [
    "## Elementary rotations"
   ]
  },
  {
   "cell_type": "code",
   "execution_count": 7,
   "metadata": {},
   "outputs": [
    {
     "data": {
      "text/plain": [
       "R_z (generic function with 1 method)"
      ]
     },
     "execution_count": 7,
     "metadata": {},
     "output_type": "execute_result"
    }
   ],
   "source": [
    "function R_x(A, Angle)\n",
    "    \n",
    "  C = cos(Angle)\n",
    "  S = sin(Angle)\n",
    "\n",
    "  A[1,1] = 1.0;   A[1,2] = 0.0;   A[1,3] = 0.0;\n",
    "  A[2,1] = 0.0;   A[2,2] = +C;    A[2,3] = +S;\n",
    "  A[3,1] = 0.0;   A[3,2] = -S;    A[3,3] = +C;\n",
    "\n",
    "  return nothing\n",
    "\n",
    "end\n",
    "    \n",
    "\n",
    "    \n",
    "function R_y(A, Angle)\n",
    "\n",
    "  C = cos(Angle)\n",
    "  S = sin(Angle)\n",
    "\n",
    "  A[1,1] = +C;   A[1,2] = 0.0;  A[1,3] = -S;\n",
    "  A[2,1] = 0.0;  A[2,2] = 1.0;  A[2,3] = 0.0;\n",
    "  A[3,1] = +S;   A[3,2] = 0.0;  A[3,3] = +C;\n",
    "    \n",
    "  return nothing  \n",
    "\n",
    "end\n",
    "        \n",
    "\n",
    "    \n",
    "function R_z(A, Angle)\n",
    "\n",
    "  C = cos(Angle)\n",
    "  S = sin(Angle)\n",
    "\n",
    "  A[1,1] = +C;   A[1,2] = +S;  A[1,3] = 0.0;\n",
    "  A[2,1] = -S;   A[2,2] = +C;  A[2,3] = 0.0;\n",
    "  A[3,1] = 0.0;  A[3,2] = 0.0; A[3,3] = 1.0;\n",
    "    \n",
    "  return nothing  \n",
    "\n",
    "end"
   ]
  },
  {
   "cell_type": "code",
   "execution_count": null,
   "metadata": {},
   "outputs": [],
   "source": []
  }
 ],
 "metadata": {
  "@webio": {
   "lastCommId": null,
   "lastKernelId": null
  },
  "kernelspec": {
   "display_name": "Julia 1.5.3",
   "language": "julia",
   "name": "julia-1.5"
  },
  "language_info": {
   "file_extension": ".jl",
   "mimetype": "application/julia",
   "name": "julia",
   "version": "1.5.3"
  }
 },
 "nbformat": 4,
 "nbformat_minor": 2
}
