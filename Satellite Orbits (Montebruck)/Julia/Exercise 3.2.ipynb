{
 "cells": [
  {
   "cell_type": "markdown",
   "metadata": {},
   "source": [
    "# Exercise 3.2 (Moon Ephemerides)"
   ]
  },
  {
   "cell_type": "code",
   "execution_count": 13,
   "metadata": {},
   "outputs": [],
   "source": [
    "using NBInclude\n",
    "using LinearAlgebra,Plots"
   ]
  },
  {
   "cell_type": "code",
   "execution_count": 14,
   "metadata": {},
   "outputs": [
    {
     "data": {
      "text/plain": [
       "4.56e-6"
      ]
     },
     "execution_count": 14,
     "metadata": {},
     "output_type": "execute_result"
    }
   ],
   "source": [
    "@nbinclude(\"./SAT_Time.ipynb\")\n",
    "@nbinclude(\"./SAT_Kepler.ipynb\")\n",
    "@nbinclude(\"./SAT_Force.ipynb\")\n",
    "@nbinclude(\"./SAT_Const.ipynb\")"
   ]
  },
  {
   "cell_type": "markdown",
   "metadata": {},
   "source": [
    "- Satellite Orbits (pag.113)\n",
    "\n",
    "The Moon ephemeris is to be computed and\n",
    "evaluated. To this end the geocentric Cartesian position coordinates of the Moon are\n",
    "to be computed from 2006/03/14 00:00 to 2006/03/18 00:00 (Terrestrial Time) in\n",
    "steps of one day. A comparison of low-precision analytic lunar coordinates is to be\n",
    "made with positions as derived from the Chebyshev coefficients of JPL’s DE405. A\n",
    "listing of the 39 Chebyshev coefficients (13 per coordinate) is given below, which\n",
    "covers the DE405 subinterval size of 4 days."
   ]
  },
  {
   "cell_type": "markdown",
   "metadata": {},
   "source": [
    "## 3.3- Sun and Moon"
   ]
  },
  {
   "cell_type": "markdown",
   "metadata": {},
   "source": [
    "Sample Chebyshev coefficients from JPL DE405 for geocentric lunar \n",
    "coordinates in the ITRF(EME2000) frame valid from 2006/03/14 TDB \n",
    "to 2006/03/18 TDB "
   ]
  },
  {
   "cell_type": "code",
   "execution_count": 3,
   "metadata": {},
   "outputs": [],
   "source": [
    "N_coeff = 13          # Number of coefficients \n",
    "t1 = 53808.0          # MJD at start of interval \n",
    "t2 = 53812.0          # MJD at end   of interval \n",
    "Cx_moon=              # Coefficients for x-coordinate\n",
    "[-0.383089044877016277e+06, 0.218158411754834669e+05, 0.179067292901463843e+05,\n",
    " -0.836928063411765777e+02,-0.628266733052023696e+02,-0.459274434235101225e+00,\n",
    "  0.491167202819885532e-01, 0.770804039287614762e-03,-0.125935992206166816e-03,\n",
    "  0.500271026610991370e-05, 0.107044869185752331e-05, 0.172472464343636242e-08,\n",
    " -0.269667589576924680e-08]\n",
    "Cy_moon=              #Coefficients for y-coordinate\n",
    "[-0.379891721705081436e+05,-0.143611643157166138e+06, 0.187126702787245881e+04, \n",
    "  0.112734362473135207e+04, 0.932891213817359177e+00,-0.191932684130578513e+01, \n",
    " -0.266517663331897990e-01, 0.104558913448630337e-02,-0.359077689123857890e-04, \n",
    " -0.123405162037249834e-04, 0.180479239596339495e-06, 0.525522632333670539e-07, \n",
    "  0.543313967008773005e-09]                                              \n",
    "Cz_moon=              #Coefficients for z-coordinate\n",
    "[-0.178496690739133737e+05,-0.788257550331743259e+05, 0.880684692614081882e+03, \n",
    "  0.618395886330471512e+03, 0.103331218594995988e+01,-0.104949867328178592e+01,\n",
    " -0.150337371962561087e-01, 0.569056416308259317e-03,-0.186297523286550968e-04,\n",
    " -0.680012420653791955e-05, 0.902057208454410917e-07, 0.287891446432139173e-07, \n",
    "  0.319822827699973363e-09];\n",
    "\n",
    "#Cheb3D(MoonCheb,N_coeff,t1,t2,Cx_moon,Cy_moon,Cz_moon)"
   ]
  },
  {
   "cell_type": "markdown",
   "metadata": {},
   "source": [
    "### Moon position from DE405"
   ]
  },
  {
   "cell_type": "code",
   "execution_count": 11,
   "metadata": {},
   "outputs": [
    {
     "data": {
      "text/plain": [
       "MoonCheb (generic function with 1 method)"
      ]
     },
     "execution_count": 11,
     "metadata": {},
     "output_type": "execute_result"
    }
   ],
   "source": [
    "function MoonCheb( r_Moon, t,\n",
    "                   N,Ta,Tb,Cx,Cy,Cz)\n",
    "\"\"\"\n",
    " Evaluation of the Chebyshev approximation of a three-dimensional vector\n",
    "\"\"\"    \n",
    "  if ( (t<Ta) || (Tb<t) ) \n",
    "    println(\"ERROR: Time out of range in Cheb3D::Value\")\n",
    "    exit\n",
    "  end\n",
    "\n",
    "  # Clenshaw algorithm\n",
    "  tau = (2.0*t-Ta-Tb)/(Tb-Ta)  \n",
    "\n",
    "  f1 = zeros(3)\n",
    "  f2 = zeros(3) \n",
    "  old_f1=zeros(3)\n",
    "\n",
    "  for i in N:-1:2\n",
    "    old_f1 = copy(f1) \n",
    "    f1 = 2.0*tau*f1-f2+[Cx[i],Cy[i],Cz[i]] \n",
    "    f2 = copy(old_f1)\n",
    "  end\n",
    "  \n",
    "  r_Moon.=tau*f1-f2+[Cx[1],Cy[1],Cz[1]]\n",
    "\n",
    "\n",
    "  return nothing\n",
    "\n",
    "end\n"
   ]
  },
  {
   "cell_type": "code",
   "execution_count": 12,
   "metadata": {},
   "outputs": [
    {
     "name": "stdout",
     "output_type": "stream",
     "text": [
      "Mjd_TT=53808.0, Moon=[-386976.7831388396, 106369.21888706, 61240.44196184228]\n",
      "Mjd_TT=53808.5, Moon=[-397199.2259141454, 70584.99563744929, 41725.65005983121]\n",
      "Mjd_TT=53809.0, Moon=[-403002.3311435525, 34008.82556762028, 21741.254760131054]\n",
      "Mjd_TT=53809.5, Moon=[-404301.8729067812, -2946.2438238462273, 1512.8683942005046]\n",
      "Mjd_TT=53810.0, Moon=[-401058.6500841973, -39859.47969148816, -18729.305439323947]\n",
      "Mjd_TT=53810.5, Moon=[-393279.7517060793, -76305.82367242243, -38752.305199214316]\n",
      "Mjd_TT=53811.0, Moon=[-381019.56286902056, -111859.42309552713, -58322.34096169204]\n",
      "Mjd_TT=53811.5, Moon=[-364380.4911275337, -146097.3111886013, -77206.80806903348]\n",
      "Mjd_TT=53812.0, Moon=[-343513.4033978065, -178603.2167648899, -95176.37420462182]\n"
     ]
    }
   ],
   "source": [
    "N_Step=8\n",
    "Step=0.5\n",
    "\n",
    "Mjd0 = Mjd(2006,3,14,0,0,0.0)\n",
    "#Mjd0= 53808\n",
    "\n",
    "r_Moon=zeros(3)\n",
    "for i in 0:N_Step\n",
    "    Mjd_TT = Mjd0 + i*Step\n",
    "    MoonCheb(r_Moon,Mjd_TT, N_coeff,t1,t2,Cx_moon,Cy_moon,Cz_moon)\n",
    "    println(\"Mjd_TT=\",Mjd_TT, \", Moon=\",r_Moon)\n",
    "end"
   ]
  },
  {
   "cell_type": "markdown",
   "metadata": {},
   "source": [
    "### Moon position from low precision analytical theory"
   ]
  },
  {
   "cell_type": "code",
   "execution_count": 15,
   "metadata": {},
   "outputs": [
    {
     "data": {
      "text/plain": [
       "53808.0"
      ]
     },
     "execution_count": 15,
     "metadata": {},
     "output_type": "execute_result"
    }
   ],
   "source": [
    "Mjd0 = Mjd(2006,3,14,0,0,0.0)"
   ]
  },
  {
   "cell_type": "code",
   "execution_count": 16,
   "metadata": {},
   "outputs": [
    {
     "name": "stdout",
     "output_type": "stream",
     "text": [
      "Mjd_TT=53808.0, Moon=[-387370.19743008976, 106087.1045084343, 61146.65942815451]\n",
      "Mjd_TT=53808.5, Moon=[-397579.6514271391, 70056.34550905536, 41497.32203526625]\n",
      "Mjd_TT=53809.0, Moon=[-403305.9337819239, 33232.15328633493, 21375.00795249281]\n",
      "Mjd_TT=53809.5, Moon=[-404464.3950889143, -3946.427239904606, 1019.8849055775855]\n",
      "Mjd_TT=53810.0, Moon=[-401024.30346881854, -41034.66237915785, -19324.15442275841]\n",
      "Mjd_TT=53810.5, Moon=[-393008.87846317474, -77588.25711396812, -39412.91794047623]\n",
      "Mjd_TT=53811.0, Moon=[-380494.07873646566, -113169.04245615566, -59005.11709005821]\n",
      "Mjd_TT=53811.5, Moon=[-363606.43575266027, -147349.93521810143, -77865.17757645308]\n",
      "Mjd_TT=53812.0, Moon=[-342520.32286604383, -179719.00525674288, -95765.55488178808]\n"
     ]
    }
   ],
   "source": [
    "N_Step=8\n",
    "Step=0.5\n",
    "\n",
    "Mjd0 = Mjd(2006,3,14,0,0,0.0)\n",
    "#Mjd0= 53808\n",
    "\n",
    "r_Moon=zeros(3)\n",
    "for i in 0:N_Step\n",
    "    Mjd_TT = Mjd0 + i*Step\n",
    "    Moon!(r_Moon,Mjd_TT)\n",
    "    println(\"Mjd_TT=\",Mjd_TT, \", Moon=\",r_Moon/1000)\n",
    "end"
   ]
  },
  {
   "cell_type": "code",
   "execution_count": null,
   "metadata": {},
   "outputs": [],
   "source": []
  }
 ],
 "metadata": {
  "@webio": {
   "lastCommId": null,
   "lastKernelId": null
  },
  "kernelspec": {
   "display_name": "Julia 1.5.3",
   "language": "julia",
   "name": "julia-1.5"
  },
  "language_info": {
   "file_extension": ".jl",
   "mimetype": "application/julia",
   "name": "julia",
   "version": "1.5.3"
  }
 },
 "nbformat": 4,
 "nbformat_minor": 2
}
