{
 "cells": [
  {
   "cell_type": "markdown",
   "metadata": {},
   "source": [
    "# SAT_Kepler\n",
    "\n",
    "- Frac\n",
    "- Elements\n",
    "- State"
   ]
  },
  {
   "cell_type": "code",
   "execution_count": 4,
   "metadata": {},
   "outputs": [],
   "source": [
    "using NBInclude\n",
    "using LinearAlgebra\n",
    "\n",
    "#@nbinclude(\"./SAT_Const.ipynb\")\n",
    "@nbinclude(\"./SAT_VecMat.ipynb\")"
   ]
  },
  {
   "cell_type": "code",
   "execution_count": 2,
   "metadata": {},
   "outputs": [
    {
     "data": {
      "text/plain": [
       "Elements (generic function with 1 method)"
      ]
     },
     "execution_count": 2,
     "metadata": {},
     "output_type": "execute_result"
    }
   ],
   "source": [
    "function Elements(GM, y)\n",
    "\"\"\"\n",
    "Purpose:\n",
    "    Computes the osculating Keplerian elements from the satellite state vector\n",
    "    for elliptic orbits\n",
    "\n",
    "Input:    \n",
    "     GM  Gravitational coefficient (gravitational constant * mass of central body)\n",
    "     u   State vector (x,y,z,vx,vy,vz)\n",
    "Output:\n",
    "     Keplerian elements (a,e,i,Omega,omega,M) with\n",
    "      a      Semimajor axis\n",
    "      e      Eccentricity\n",
    "      i      Inclination [rad]\n",
    "      Omega  Longitude of the ascending node [rad]\n",
    "      omega  Argument of pericenter  [rad]\n",
    "      M      Mean anomaly  [rad]\n",
    "\"\"\"\n",
    "\n",
    "     r=y[1:3]\n",
    "     v=y[4:6]\n",
    "     h=cross(r,v)\n",
    "     H=norm(h)\n",
    " \n",
    "     Omega=atan(h[1],-h[2])\n",
    "     Omega=mod(Omega,2.0*pi)\n",
    "     i=atan(sqrt(h[1]*h[1]+h[2]*h[2]),h[3])  \n",
    "     u=atan(r[3]*H,-r[1]*h[2]+r[2]*h[1])\n",
    " \n",
    "     R=norm(r)\n",
    "     a=1.0/(2.0/R-dot(v,v)/GM)\n",
    " \n",
    "     eCosE = 1.0-R/a\n",
    "     eSinE = dot(r,v)/sqrt(GM*a)\n",
    " \n",
    "     e2 = eCosE*eCosE +eSinE*eSinE\n",
    "     e  = sqrt(e2)\n",
    "     E  = atan(eSinE,eCosE)\n",
    "\n",
    "     M  = mod(E-eSinE,2.0*pi)\n",
    "     nu = atan(sqrt(1.0-e2)*eSinE, eCosE-e2)\n",
    "     omega = mod(u-nu,2.0*pi)\n",
    "\n",
    "     return(a,e,i,Omega,omega,M)\n",
    "    \n",
    "end"
   ]
  },
  {
   "cell_type": "code",
   "execution_count": 5,
   "metadata": {},
   "outputs": [
    {
     "data": {
      "text/plain": [
       "State (generic function with 1 method)"
      ]
     },
     "execution_count": 5,
     "metadata": {},
     "output_type": "execute_result"
    }
   ],
   "source": [
    "function State(GM, Kep, dt)\n",
    "\"\"\"\n",
    "  Purpose:\n",
    "    Computes the satellite state vector from osculating Keplerian elements\n",
    "    for elliptic orbits\n",
    "    \n",
    "  Input/Output:\n",
    "    GM        Gravitational coefficient\n",
    "    Kep       Keplerian elements (a,e,i,Omega,omega,M) \n",
    "    dt        Time since epoch\n",
    "    <return>  State vector (x,y,z,vx,vy,vz)\n",
    "\"\"\"    \n",
    "\n",
    "  # Keplerian elements at epoch\n",
    "  \n",
    "  a = Kep[1];  Omega = Kep[4];\n",
    "  e = Kep[2];  omega = Kep[5]; \n",
    "  i = Kep[3];  M0    = Kep[6];\n",
    "\n",
    "  # Mean anomaly\n",
    "\n",
    "  if (dt==0.0) \n",
    "    M = M0\n",
    "  else \n",
    "    n = sqrt(GM/(a*a*a))\n",
    "    M = M0 +n*dt\n",
    "  end\n",
    "\n",
    "  # Eccentric anomaly\n",
    "  \n",
    "  E=EccAnom(M,e)   \n",
    "\n",
    "  cosE = cos(E) \n",
    "  sinE = sin(E)\n",
    "\n",
    "  # Perifocal coordinates\n",
    "\n",
    "  fac=sqrt((1.0-e)*(1.0+e))  \n",
    "\n",
    "  R = a*(1.0-e*cosE)   # Distance\n",
    "  V = sqrt(GM*a)/R     # Velocity\n",
    "\n",
    "  r = [a*(cosE-e), a*fac*sinE , 0.0]\n",
    "  v = [-V*sinE, +V*fac*cosE, 0.0] \n",
    "\n",
    "  # Transformation to reference system (Gaussian vectors)\n",
    "  \n",
    "  A1=zeros(3,3)\n",
    "  A2=zeros(3,3)\n",
    "  A3=zeros(3,3)\n",
    "  R_z(A1,-Omega)\n",
    "  R_x(A2,-i)\n",
    "  R_z(A3,-omega)\n",
    "  PQW = A1 * A2 * A3\n",
    "\n",
    "  r = PQW*r\n",
    "  v = PQW*v\n",
    "\n",
    "  \n",
    "  return vcat(r,v)\n",
    "\n",
    "end\n"
   ]
  },
  {
   "cell_type": "code",
   "execution_count": 1,
   "metadata": {},
   "outputs": [
    {
     "data": {
      "text/plain": [
       "EccAnom (generic function with 1 method)"
      ]
     },
     "execution_count": 1,
     "metadata": {},
     "output_type": "execute_result"
    }
   ],
   "source": [
    "function EccAnom(M,e)\n",
    "\"\"\"\n",
    "  Purpose:\n",
    "    Computes the eccentric anomaly for elliptic orbits\n",
    "  Input/Output:\n",
    "     M         Mean anomaly in [rad]\n",
    "     e         Eccentricity of the orbit [0,1[\n",
    "    <return>  Eccentric anomaly in [rad] \n",
    "    \n",
    "\"\"\"\n",
    "  eps_mach=1.e-16\n",
    "  maxit = 15\n",
    "  eps = 100.0*eps_mach\n",
    "\n",
    "  i=0\n",
    "\n",
    "  # Starting value\n",
    "\n",
    "  M = mod(M, 2.0*pi)   \n",
    "    \n",
    "  if (e<0.8)\n",
    "       E=M\n",
    "  else \n",
    "       E=pi\n",
    "  end\n",
    "\n",
    "  # Iteration\n",
    "\n",
    "  f=1.0\n",
    "  while (abs(f) > eps) \n",
    "    f = E - e*sin(E) - M\n",
    "    E = E - f / ( 1.0 - e*cos(E) )\n",
    "    i+=1\n",
    "    if (i==maxit)\n",
    "      println(\" convergence problems in EccAnom\")\n",
    "      break\n",
    "    end\n",
    "  end       \n",
    "\n",
    "  return E\n",
    "\n",
    "end\n",
    "\n",
    "\"\"\"\n",
    "const eps_mach=1.e-16\n",
    "EccAnom(100,0.1)\n",
    "\"\"\"\n"
   ]
  },
  {
   "cell_type": "code",
   "execution_count": null,
   "metadata": {},
   "outputs": [],
   "source": []
  }
 ],
 "metadata": {
  "@webio": {
   "lastCommId": null,
   "lastKernelId": null
  },
  "kernelspec": {
   "display_name": "Julia 1.5.3",
   "language": "julia",
   "name": "julia-1.5"
  },
  "language_info": {
   "file_extension": ".jl",
   "mimetype": "application/julia",
   "name": "julia",
   "version": "1.5.3"
  }
 },
 "nbformat": 4,
 "nbformat_minor": 2
}
