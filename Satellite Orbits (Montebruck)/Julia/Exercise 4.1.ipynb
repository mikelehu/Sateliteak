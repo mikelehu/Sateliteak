{
 "cells": [
  {
   "cell_type": "markdown",
   "metadata": {},
   "source": [
    "# Exercise 4.1 "
   ]
  },
  {
   "cell_type": "code",
   "execution_count": 3,
   "metadata": {},
   "outputs": [
    {
     "data": {
      "text/plain": [
       "R_z (generic function with 1 method)"
      ]
     },
     "execution_count": 3,
     "metadata": {},
     "output_type": "execute_result"
    }
   ],
   "source": [
    "using NBInclude\n",
    "using Dates\n",
    "using LinearAlgebra,Plots\n",
    "using OrdinaryDiffEq\n",
    "\n",
    "\n",
    "@nbinclude(\"./SAT_Kepler.ipynb\")\n",
    "@nbinclude(\"./SAT_VecMat.ipynb\")\n"
   ]
  },
  {
   "cell_type": "markdown",
   "metadata": {},
   "source": [
    "- Satellite Orbits 154.orr\n",
    "\n",
    "Exercise 4.1 (4th-Order Runge–Kutta Method) Apply the 4th-order Runge–\n",
    "Kutta method (cf. Sect. 4.1.1) to integrate the normalized two-body problem from\n",
    "t 0 = 0 to t = 20 for an eccentricity of e = 0.1 (test problem D1, cf. Sect. 4.1.6).\n",
    "Determine the resulting accuracy of the state vector at the end point using n =\n",
    "{50, 100, 250, 500, 750, 1000, 1500, 2000} steps and count the corresponding\n",
    "number of function evaluations.\n"
   ]
  },
  {
   "cell_type": "markdown",
   "metadata": {},
   "source": [
    "## Main Program"
   ]
  },
  {
   "cell_type": "code",
   "execution_count": 6,
   "metadata": {},
   "outputs": [
    {
     "data": {
      "text/plain": [
       "f_Kep6D! (generic function with 1 method)"
      ]
     },
     "execution_count": 6,
     "metadata": {},
     "output_type": "execute_result"
    }
   ],
   "source": [
    "function f_Kep6D!(du,u,p,t)\n",
    "\n",
    "  r=u[1:3]\n",
    "  v=u[4:6]\n",
    "\n",
    "  du[1:3]=v\n",
    "  du[4:6]=-r/norm(r)^3\n",
    "    \n",
    "  return nothing\n",
    "end"
   ]
  },
  {
   "cell_type": "code",
   "execution_count": 9,
   "metadata": {},
   "outputs": [],
   "source": [
    "GM    = 1.0            # Gravitational coefficient\n",
    "e     = 0.1            # Eccentricity\n",
    "t_end = 20.0           # End time\n",
    "Kep=[1.0,e,0.0,0.0,0.0,0.0]    # (a,e,i,Omega,omega,M)\n",
    "y_ref = State(GM,Kep,t_end);    # Reference solution"
   ]
  },
  {
   "cell_type": "code",
   "execution_count": 8,
   "metadata": {},
   "outputs": [],
   "source": [
    "tspan=(0.,t_end)\n",
    "u0=[1.0-e,0.0,0.0, 0.0,sqrt((1+e)/(1-e)),0.0]\n",
    "prob=ODEProblem(f_Kep6D!,u0,tspan,[]);"
   ]
  },
  {
   "cell_type": "code",
   "execution_count": 25,
   "metadata": {},
   "outputs": [
    {
     "name": "stdout",
     "output_type": "stream",
     "text": [
      "50,0.1953482558689346\n",
      "100,0.006663267445166991\n",
      "250,9.051025193218972e-5\n",
      "500,4.012045875308027e-6\n",
      "750,6.8472287559442e-7\n",
      "1000,1.996420138312278e-7\n",
      "1500,3.608276819388987e-8\n",
      "2000,1.0886820653816702e-8\n"
     ]
    }
   ],
   "source": [
    "Steps= [50, 100, 250, 500, 750, 1000, 1500, 2000]\n",
    "#h = t_end./Steps\n",
    "\n",
    "for i in Steps\n",
    "   h=t_end/i\n",
    "   sol=solve(prob,dt=h,RK4(),adaptive=false)\n",
    "   println(i, \",\", norm(y_ref-sol.u[end]))\n",
    "end"
   ]
  },
  {
   "cell_type": "code",
   "execution_count": null,
   "metadata": {},
   "outputs": [],
   "source": []
  }
 ],
 "metadata": {
  "kernelspec": {
   "display_name": "Julia 1.5.3",
   "language": "julia",
   "name": "julia-1.5"
  },
  "language_info": {
   "file_extension": ".jl",
   "mimetype": "application/julia",
   "name": "julia",
   "version": "1.5.3"
  }
 },
 "nbformat": 4,
 "nbformat_minor": 2
}
