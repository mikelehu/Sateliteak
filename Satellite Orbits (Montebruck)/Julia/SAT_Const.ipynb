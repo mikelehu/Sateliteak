{
 "cells": [
  {
   "cell_type": "markdown",
   "metadata": {},
   "source": [
    "# SAT_Const\n",
    "\n",
    "- Mathematical constants\n",
    "- General"
   ]
  },
  {
   "cell_type": "code",
   "execution_count": 4,
   "metadata": {},
   "outputs": [
    {
     "data": {
      "text/plain": [
       "1.0e-16"
      ]
     },
     "execution_count": 4,
     "metadata": {},
     "output_type": "execute_result"
    }
   ],
   "source": [
    "eps_mach=1.e-16"
   ]
  },
  {
   "cell_type": "markdown",
   "metadata": {},
   "source": [
    "## Mathematical constants"
   ]
  },
  {
   "cell_type": "code",
   "execution_count": 5,
   "metadata": {},
   "outputs": [],
   "source": [
    "#const pi= 3.14159265358979324\n",
    "const pi2=2.0*3.14159265358979324\n",
    "const Rad=3.14159265358979324/180.0\n",
    "const Deg=180.0/3.14159265358979324\n",
    "const Arcs= 3600.0*180.0/3.14159265358979324;   # Arcseconds per radian"
   ]
  },
  {
   "cell_type": "markdown",
   "metadata": {},
   "source": [
    "## General"
   ]
  },
  {
   "cell_type": "code",
   "execution_count": 6,
   "metadata": {},
   "outputs": [
    {
     "data": {
      "text/plain": [
       "2.99792458e8"
      ]
     },
     "execution_count": 6,
     "metadata": {},
     "output_type": "execute_result"
    }
   ],
   "source": [
    "const MJD_J2000 = 51544.5     # Modif. Julian Date of J2000.0\n",
    "\n",
    "const AU=149597870000.0       #Astronomical unit [m]; IAU 1976\n",
    "const c_light=299792458.0;     #Speed of light  [m/s]; IAU 1976"
   ]
  },
  {
   "cell_type": "markdown",
   "metadata": {},
   "source": [
    "## Physical parameters of the Earth, Sun and Moon"
   ]
  },
  {
   "cell_type": "markdown",
   "metadata": {},
   "source": [
    "### Equatorial radius and flattening"
   ]
  },
  {
   "cell_type": "code",
   "execution_count": 3,
   "metadata": {},
   "outputs": [],
   "source": [
    "const R_Earth     =   6378.137e3      #Radius Earth [m]; WGS-84\n",
    "const f_Earth     = 1.0/298.257223563 #Flattening; WGS-84 \n",
    "const R_Sun       = 696000.0e3        #Radius Sun [m]; Seidelmann 1992\n",
    "const R_Moon      = 1738.0e3;       # Radius Moon [m]"
   ]
  },
  {
   "cell_type": "markdown",
   "metadata": {},
   "source": [
    "###  Earth rotation (derivative of GMST at J2000; differs from inertial period by precession)"
   ]
  },
  {
   "cell_type": "code",
   "execution_count": 9,
   "metadata": {},
   "outputs": [
    {
     "data": {
      "text/plain": [
       "7.2921158553e-5"
      ]
     },
     "execution_count": 9,
     "metadata": {},
     "output_type": "execute_result"
    }
   ],
   "source": [
    "const omega_Earth = 7.2921158553e-5;   #[rad/s]; Aoki 1982, NIMA 1997"
   ]
  },
  {
   "cell_type": "markdown",
   "metadata": {},
   "source": [
    "### Gravitational coefficient"
   ]
  },
  {
   "cell_type": "code",
   "execution_count": 12,
   "metadata": {},
   "outputs": [
    {
     "data": {
      "text/plain": [
       "4.902799059741106e12"
      ]
     },
     "execution_count": 12,
     "metadata": {},
     "output_type": "execute_result"
    }
   ],
   "source": [
    "const GM_Earth= 398600.4415e+9    #[m^3/s^2]; JGM3\n",
    "const GM_Sun = 1.32712438e+20    #[m^3/s^2]; IAU 1976\n",
    "const GM_Moon=398600.4415e+9/81.300587; #[m^3/s^2]; DE200"
   ]
  },
  {
   "cell_type": "markdown",
   "metadata": {},
   "source": [
    "### Solar radiation pressure at 1 AU "
   ]
  },
  {
   "cell_type": "code",
   "execution_count": 15,
   "metadata": {},
   "outputs": [
    {
     "data": {
      "text/plain": [
       "4.56e-6"
      ]
     },
     "execution_count": 15,
     "metadata": {},
     "output_type": "execute_result"
    }
   ],
   "source": [
    "const P_Sol=4.560E-6;        #[N/m^2] (~1367 W/m^2); IERS 96"
   ]
  },
  {
   "cell_type": "code",
   "execution_count": null,
   "metadata": {},
   "outputs": [],
   "source": []
  }
 ],
 "metadata": {
  "@webio": {
   "lastCommId": null,
   "lastKernelId": null
  },
  "kernelspec": {
   "display_name": "Julia 1.5.3",
   "language": "julia",
   "name": "julia-1.5"
  },
  "language_info": {
   "file_extension": ".jl",
   "mimetype": "application/julia",
   "name": "julia",
   "version": "1.5.3"
  }
 },
 "nbformat": 4,
 "nbformat_minor": 2
}
