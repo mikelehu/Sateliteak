{
 "cells": [
  {
   "cell_type": "markdown",
   "metadata": {},
   "source": [
    "# SAT_RefSys\n",
    "\n",
    "   Transformations betweeen celestial and terrestrial reference systems\n",
    "\n",
    "- EqnEquinox\n",
    "- GHAMatrix\n",
    "- Geodetic\n",
    "- NutMatrix\n",
    "- IERS "
   ]
  },
  {
   "cell_type": "code",
   "execution_count": 1,
   "metadata": {},
   "outputs": [
    {
     "data": {
      "text/plain": [
       "R_z (generic function with 1 method)"
      ]
     },
     "execution_count": 1,
     "metadata": {},
     "output_type": "execute_result"
    }
   ],
   "source": [
    "using NBInclude\n",
    "using LinearAlgebra\n",
    "\n",
    "@nbinclude(\"./SAT_Const.ipynb\")\n",
    "@nbinclude(\"./SAT_Kepler.ipynb\")\n",
    "@nbinclude(\"./SAT_VecMat.ipynb\")"
   ]
  },
  {
   "cell_type": "code",
   "execution_count": 24,
   "metadata": {},
   "outputs": [
    {
     "data": {
      "text/plain": [
       "\"@nbinclude(\\\"./SAT_Time.ipynb\\\")\\n\\nMjd0_UTC = Mjd(1999,3,1,0,0,0.0)\\nEqnEquinox(Mjd0_UTC)\\n\""
      ]
     },
     "execution_count": 24,
     "metadata": {},
     "output_type": "execute_result"
    }
   ],
   "source": [
    "function EqnEquinox(Mjd_TT)\n",
    "\"\"\"    \n",
    "Purpose: Computation of the equation of the equinoxes\n",
    "    \n",
    "Input:\n",
    "    Mjd_TT    Modified Julian Date (Terrestrial Time)\n",
    "Output\n",
    "    Equation of the equinoxes\n",
    "\"\"\"    \n",
    "\n",
    "# Nutation in longitude and obliquity \n",
    "      \n",
    "  (dpsi,deps)=NutAngles(Mjd_TT)\n",
    "\n",
    "# Equation of the equinoxes\n",
    "\n",
    "  return  dpsi*cos(MeanObliquity(Mjd_TT))\n",
    "\n",
    "end\n",
    "\n",
    "\"\"\"\n",
    "@nbinclude(\"./SAT_Time.ipynb\")\n",
    "\n",
    "Mjd0_UTC = Mjd(1999,3,1,0,0,0.0)\n",
    "EqnEquinox(Mjd0_UTC)\n",
    "\"\"\""
   ]
  },
  {
   "cell_type": "code",
   "execution_count": 25,
   "metadata": {},
   "outputs": [
    {
     "data": {
      "text/plain": [
       "GMST (generic function with 1 method)"
      ]
     },
     "execution_count": 25,
     "metadata": {},
     "output_type": "execute_result"
    }
   ],
   "source": [
    "function GMST(Mjd_UT1)\n",
    "\n",
    "  Secs = 86400.0        # Seconds per day\n",
    "\n",
    "  # Mean Sidereal Time\n",
    "  \n",
    "  Mjd_0 = floor(Mjd_UT1)\n",
    "  UT1   = Secs*(Mjd_UT1-Mjd_0)          # [s]\n",
    "  T_0   = (Mjd_0  -MJD_J2000)/36525.0 \n",
    "  T     = (Mjd_UT1-MJD_J2000)/36525.0;\n",
    "\n",
    "  gmst  = 24110.54841 + 8640184.812866*T_0 + 1.002737909350795*UT1\n",
    "          + (0.093104-6.2e-6*T)*T*T; # [s]\n",
    "\n",
    "  return  pi2*Frac(gmst/Secs);       # [rad], 0..2pi\n",
    "\n",
    "end\n",
    "\n",
    "\"\"\"\n",
    "@nbinclude(\"./SAT_Time.ipynb\")\n",
    "\n",
    "Mjd0_UTC = Mjd(1999,3,1,0,0,0.0)\n",
    "GMST(Mjd0_UTC)\n",
    "\"\"\""
   ]
  },
  {
   "cell_type": "code",
   "execution_count": 29,
   "metadata": {},
   "outputs": [
    {
     "data": {
      "text/plain": [
       "GAST (generic function with 1 method)"
      ]
     },
     "execution_count": 29,
     "metadata": {},
     "output_type": "execute_result"
    }
   ],
   "source": [
    "function GAST(Mjd_UT1)\n",
    "\"\"\"\n",
    "  Purpose: \n",
    "     Greenwich Apparent Sidereal Time\n",
    "  Input:\n",
    "     Mjd_UT1 : Modified Julian Date UT1\n",
    "  Output:\n",
    "     GMST in [rad]\n",
    "\"\"\"\n",
    "  return mod(GMST(Mjd_UT1) + EqnEquinox(Mjd_UT1),pi2)\n",
    "\n",
    "end"
   ]
  },
  {
   "cell_type": "code",
   "execution_count": 33,
   "metadata": {},
   "outputs": [
    {
     "data": {
      "text/plain": [
       "\"@nbinclude(\\\"./SAT_Time.ipynb\\\")\\n\\nMjd0_UTC = Mjd(1999,3,1,0,0,0.0)\\nGHAMatrix(Mjd0_UTC)\\n\""
      ]
     },
     "execution_count": 33,
     "metadata": {},
     "output_type": "execute_result"
    }
   ],
   "source": [
    "function GHAMatrix(Mjd_UT1)\n",
    "    A=zeros(3,3)\n",
    "    R_z(A,GAST(Mjd_UT1))\n",
    "    return  A\n",
    "end    \n",
    "\"\"\"\n",
    "@nbinclude(\"./SAT_Time.ipynb\")\n",
    "\n",
    "Mjd0_UTC = Mjd(1999,3,1,0,0,0.0)\n",
    "GHAMatrix(Mjd0_UTC)\n",
    "\"\"\""
   ]
  },
  {
   "cell_type": "markdown",
   "metadata": {},
   "source": [
    "## Geodetic"
   ]
  },
  {
   "cell_type": "code",
   "execution_count": 3,
   "metadata": {},
   "outputs": [
    {
     "data": {
      "text/plain": [
       "\"r=[100.,100.,100.]\\nR_Earth=6378.137e3\\nf_Earth=1.0/298.257223563\\n\\nGeodetic(r,R_Earth,f_Earth)  \\n\\n\""
      ]
     },
     "execution_count": 3,
     "metadata": {},
     "output_type": "execute_result"
    }
   ],
   "source": [
    "# Constructor for geodetic coordinates from given position\n",
    "\n",
    "function Geodetic(r,                         # Position vector [m]\n",
    "                   R_equ,                     # Equator radius [m]\n",
    "                   f)                         # Flattening\n",
    "\n",
    "  eps     = 1.0e3*eps_mach   # Convergence criterion \n",
    "  epsRequ = eps*R_equ\n",
    "  e2      = f*(2.0-f)        # Square of eccentricity\n",
    "  \n",
    "  X = r[1]                   # Cartesian coordinates\n",
    "  Y = r[2]\n",
    "  Z = r[3]\n",
    "  rho2 = X*X + Y*Y           # Square of distance from z-axis\n",
    "  \n",
    "  # Check validity of input data\n",
    "\n",
    "  if (norm(r)==0.0) \n",
    "    println(\" invalid input in Geodetic constructor\")\n",
    "    return nothing\n",
    "  end\n",
    "\n",
    "  # Iteration \n",
    "\n",
    "  dZ = e2*Z\n",
    "  dZ_new=-1.\n",
    "  ZdZ=Z\n",
    "  Nh=0.\n",
    "  N=0.\n",
    " \n",
    "\n",
    "  while abs(dZ-dZ_new) > epsRequ\n",
    "    ZdZ    =  Z + dZ\n",
    "    Nh     =  sqrt( rho2 + ZdZ*ZdZ ) \n",
    "    SinPhi =  ZdZ / Nh                    # Sine of geodetic latitude\n",
    "    N      =  R_equ / sqrt(1.0-e2*SinPhi*SinPhi)\n",
    "    dZ_new =  N*e2*SinPhi\n",
    "    dZ = dZ_new\n",
    "  end\n",
    "    \n",
    "  # Longitude, latitude, altitude\n",
    "\n",
    "  lon = atan( Y, X )\n",
    "  lat = atan( ZdZ, sqrt(rho2) )\n",
    "  h   = Nh - N\n",
    "\n",
    "  return lon,lat,h\n",
    "\n",
    "end\n",
    "\n",
    "\"\"\"\n",
    "r=[100.,100.,100.]\n",
    "R_Earth=6378.137e3\n",
    "f_Earth=1.0/298.257223563\n",
    "\n",
    "Geodetic(r,R_Earth,f_Earth)  \n",
    "\n",
    "\"\"\"\n"
   ]
  },
  {
   "cell_type": "markdown",
   "metadata": {},
   "source": [
    "## NutMatrix"
   ]
  },
  {
   "cell_type": "code",
   "execution_count": 18,
   "metadata": {},
   "outputs": [
    {
     "data": {
      "text/plain": [
       "\"nire testa\\n@nbinclude(\\\"./SAT_Time.ipynb\\\")\\n\\nMjd0_UTC = Mjd(1999,3,1,0,0,0.0)\\nMeanObliquity(Mjd0_UTC)\\n\\n\""
      ]
     },
     "execution_count": 18,
     "metadata": {},
     "output_type": "execute_result"
    }
   ],
   "source": [
    "function MeanObliquity(Mjd_TT)\n",
    "\"\"\"\n",
    "Purpose:\n",
    "    Computes the mean obliquity of the ecliptic\n",
    "Input:\n",
    "    Modified Julian Date (Terrestrial Time)\n",
    "Output:\n",
    "    Mean obliquity of the ecliptic\n",
    "\"\"\"\n",
    "  T = (Mjd_TT-MJD_J2000)/36525.0\n",
    "\n",
    "  return  Rad*( 23.43929111-(46.8150+(0.00059-0.001813*T)*T)*T/3600.0 )\n",
    "end\n",
    "\n",
    "\"\"\"\n",
    "nire testa\n",
    "@nbinclude(\"./SAT_Time.ipynb\")\n",
    "\n",
    "Mjd0_UTC = Mjd(1999,3,1,0,0,0.0)\n",
    "MeanObliquity(Mjd0_UTC)\n",
    "\n",
    "\"\"\""
   ]
  },
  {
   "cell_type": "code",
   "execution_count": 19,
   "metadata": {},
   "outputs": [
    {
     "data": {
      "text/plain": [
       "\"nire testa\\n\\n@nbinclude(\\\"./SAT_Time.ipynb\\\")\\n\\nMjd0_UTC = Mjd(1999,3,1,0,0,0.0)\\nPrecMatrix(MJD_J2000,Mjd0_UTC)\\n\\n\""
      ]
     },
     "execution_count": 19,
     "metadata": {},
     "output_type": "execute_result"
    }
   ],
   "source": [
    "function EclMatrix(Mjd_TT)\n",
    "\"\"\"\n",
    "Purpose:\n",
    "      Transformation of equatorial to ecliptical coordinates \n",
    "    \n",
    "Input/Output:\n",
    "      Mjd_TT    Modified Julian Date (Terrestrial Time)\n",
    "      <return>  Transformation matrix\n",
    "\"\"\"    \n",
    "  A=zeros(3,3)\n",
    "  R_x(A,MeanObliquity(Mjd_TT))\n",
    "  return A\n",
    "end\n",
    "\n",
    "\n",
    "function PrecMatrix(Mjd_1,Mjd_2)\n",
    "\"\"\"\n",
    "Purpose:\n",
    "    Precession transformation of equatorial coordinates \n",
    "\n",
    "Input/Output:\n",
    "     Mjd_1     Epoch given (Modified Julian Date TT)\n",
    "     MjD_2     Epoch to precess to (Modified Julian Date TT)\n",
    "     <return>  Precession transformation matrix\n",
    "\n",
    "\"\"\"    \n",
    "   T  = (Mjd_1-MJD_J2000)/36525.0\n",
    "   dT = (Mjd_2-Mjd_1)/36525.0\n",
    "  \n",
    "#  Precession angles\n",
    "  \n",
    "  zeta  =  ( (2306.2181+(1.39656-0.000139*T)*T)+\n",
    "                ((0.30188-0.000344*T)+0.017998*dT)*dT )*dT/Arcs\n",
    "  z     =  zeta + ( (0.79280+0.000411*T)+0.000205*dT)*dT*dT/Arcs\n",
    "  theta =  ( (2004.3109-(0.85330+0.000217*T)*T)-\n",
    "                ((0.42665+0.000217*T)+0.041833*dT)*dT )*dT/Arcs\n",
    "\n",
    "#  Precession matrix\n",
    "  \n",
    "  A1=zeros(3,3)\n",
    "  A2=zeros(3,3)\n",
    "  A3=zeros(3,3)\n",
    "  R_z(A1,-z)\n",
    "  R_y(A2,theta)\n",
    "  R_z(A3,-zeta)\n",
    "  return A1*A2*A3    \n",
    "\n",
    "end   \n",
    "\n",
    "\"\"\"\n",
    "nire testa\n",
    "\n",
    "@nbinclude(\"./SAT_Time.ipynb\")\n",
    "\n",
    "Mjd0_UTC = Mjd(1999,3,1,0,0,0.0)\n",
    "PrecMatrix(MJD_J2000,Mjd0_UTC)\n",
    "\n",
    "\"\"\""
   ]
  },
  {
   "cell_type": "code",
   "execution_count": 20,
   "metadata": {},
   "outputs": [
    {
     "data": {
      "text/plain": [
       "\"nire testa\\n\\n@nbinclude(\\\"./SAT_Time.ipynb\\\")\\n\\nMjd0_UTC = Mjd(1999,3,1,0,0,0.0)\\n(dpsi, deps)=NutAngles(Mjd0_UTC)\\n\\n\""
      ]
     },
     "execution_count": 20,
     "metadata": {},
     "output_type": "execute_result"
    }
   ],
   "source": [
    "function NutAngles(Mjd_TT)\n",
    "\"\"\"\n",
    "  Purpose:\n",
    "    Nutation in longitude and obliquity\n",
    "\n",
    "  Input:\n",
    "    Mjd_TT    Modified Julian Date (Terrestrial Time)\n",
    "   \n",
    "  Output:\n",
    "    Nutation Angles\n",
    "\"\"\"\n",
    "    \n",
    "  T  = (Mjd_TT-MJD_J2000)/36525.0;\n",
    "  T2 = T*T;\n",
    "  T3 = T2*T;\n",
    "  rev = 360.0*3600.0;  #arcsec/revolution\n",
    "\n",
    "  N_coeff = 106\n",
    "    \n",
    " C=[\n",
    "#     l  l' F  D Om    dpsi    *T      deps     *T       #\n",
    "      0  0  0  0  1  -1719960 -1742   920250   89;      \n",
    "      0  0  0  0  2     20620     2    -8950    5;\n",
    "     -2  0  2  0  1       460     0     -240    0; \n",
    "      2  0 -2  0  0       110     0        0    0; \n",
    "     -2  0  2  0  2       -30     0       10    0;\n",
    "      1 -1  0 -1  0       -30     0        0    0; \n",
    "      0 -2  2 -2  1       -20     0       10    0; \n",
    "      2  0 -2  0  1        10     0        0    0; \n",
    "      0  0  2 -2  2   -131870   -16    57360  -31;\n",
    "      0  1  0  0  0     14260   -34      540   -1; \n",
    "      0  1  2 -2  2     -5170    12     2240   -6; \n",
    "      0 -1  2 -2  2      2170    -5     -950    3; \n",
    "      0  0  2 -2  1      1290     1     -700    0; \n",
    "      2  0  0 -2  0       480     0       10    0;\n",
    "      0  0  2 -2  0      -220     0        0    0;\n",
    "      0  2  0  0  0       170    -1        0    0;\n",
    "      0  1  0  0  1      -150     0       90    0;\n",
    "      0  2  2 -2  2      -160     1       70    0;\n",
    "      0 -1  0  0  1      -120     0       60    0;\n",
    "     -2  0  0  2  1       -60     0       30    0;\n",
    "      0 -1  2 -2  1       -50     0       30    0;\n",
    "      2  0  0 -2  1        40     0      -20    0;\n",
    "      0  1  2 -2  1        40     0      -20    0;\n",
    "      1  0  0 -1  0       -40     0        0    0;\n",
    "      2  1  0 -2  0        10     0        0    0;\n",
    "      0  0 -2  2  1        10     0        0    0;\n",
    "      0  1 -2  2  0       -10     0        0    0;\n",
    "      0  1  0  0  2        10     0        0    0;\n",
    "     -1  0  0  1  1        10     0        0    0;\n",
    "      0  1  2 -2  0       -10     0        0    0;\n",
    "      0  0  2  0  2    -22740    -2     9770   -5;\n",
    "      1  0  0  0  0      7120     1      -70    0;\n",
    "      0  0  2  0  1     -3860    -4     2000    0;\n",
    "      1  0  2  0  2     -3010     0     1290   -1;\n",
    "      1  0  0 -2  0     -1580     0      -10    0;\n",
    "     -1  0  2  0  2      1230     0     -530    0;\n",
    "      0  0  0  2  0       630     0      -20    0;\n",
    "      1  0  0  0  1       630     1     -330    0;\n",
    "     -1  0  0  0  1      -580    -1      320    0;\n",
    "     -1  0  2  2  2      -590     0      260    0;\n",
    "      1  0  2  0  1      -510     0      270    0;\n",
    "      0  0  2  2  2      -380     0      160    0;\n",
    "      2  0  0  0  0       290     0      -10    0;\n",
    "      1  0  2 -2  2       290     0     -120    0;\n",
    "      2  0  2  0  2      -310     0      130    0;\n",
    "      0  0  2  0  0       260     0      -10    0;\n",
    "     -1  0  2  0  1       210     0     -100    0;\n",
    "     -1  0  0  2  1       160     0      -80    0;\n",
    "      1  0  0 -2  1      -130     0       70    0;\n",
    "     -1  0  2  2  1      -100     0       50    0;\n",
    "      1  1  0 -2  0       -70     0        0    0;\n",
    "      0  1  2  0  2        70     0      -30    0;\n",
    "      0 -1  2  0  2       -70     0       30    0;\n",
    "      1  0  2  2  2       -80     0       30    0;\n",
    "      1  0  0  2  0        60     0        0    0;\n",
    "      2  0  2 -2  2        60     0      -30    0;\n",
    "      0  0  0  2  1       -60     0       30    0;\n",
    "      0  0  2  2  1       -70     0       30    0;\n",
    "      1  0  2 -2  1        60     0      -30    0;\n",
    "      0  0  0 -2  1       -50     0       30    0;\n",
    "      1 -1  0  0  0        50     0        0    0;\n",
    "      2  0  2  0  1       -50     0       30    0;\n",
    "      0  1  0 -2  0       -40     0        0    0;\n",
    "      1  0 -2  0  0        40     0        0    0;\n",
    "      0  0  0  1  0       -40     0        0    0;\n",
    "      1  1  0  0  0       -30     0        0    0;\n",
    "      1  0  2  0  0        30     0        0    0;\n",
    "      1 -1  2  0  2       -30     0       10    0;\n",
    "     -1 -1  2  2  2       -30     0       10    0;\n",
    "     -2  0  0  0  1       -20     0       10    0;\n",
    "      3  0  2  0  2       -30     0       10    0;\n",
    "      0 -1  2  2  2       -30     0       10    0;\n",
    "      1  1  2  0  2        20     0      -10    0;\n",
    "     -1  0  2 -2  1       -20     0       10    0;\n",
    "      2  0  0  0  1        20     0      -10    0;\n",
    "      1  0  0  0  2       -20     0       10    0;\n",
    "      3  0  0  0  0        20     0        0    0;\n",
    "      0  0  2  1  2        20     0      -10    0;\n",
    "     -1  0  0  0  2        10     0      -10    0;\n",
    "      1  0  0 -4  0       -10     0        0    0;\n",
    "     -2  0  2  2  2        10     0      -10    0;\n",
    "     -1  0  2  4  2       -20     0       10    0;\n",
    "      2  0  0 -4  0       -10     0        0    0;\n",
    "      1  1  2 -2  2        10     0      -10    0;\n",
    "      1  0  2  2  1       -10     0       10    0;\n",
    "     -2  0  2  4  2       -10     0       10    0;\n",
    "     -1  0  4  0  2        10     0        0    0;\n",
    "      1 -1  0 -2  0        10     0        0    0;\n",
    "      2  0  2 -2  1        10     0      -10    0;\n",
    "      2  0  2  2  2       -10     0        0    0;\n",
    "      1  0  0  2  1       -10     0        0    0;\n",
    "      0  0  4 -2  2        10     0        0    0;\n",
    "      3  0  2 -2  2        10     0        0    0;\n",
    "      1  0  2 -2  0       -10     0        0    0;\n",
    "      0  1  2  0  1        10     0        0    0;\n",
    "     -1 -1  0  2  1        10     0        0    0;\n",
    "      0  0 -2  0  1       -10     0        0    0;\n",
    "      0  0  2 -1  2       -10     0        0    0;\n",
    "      0  1  0  2  0       -10     0        0    0;\n",
    "      1  0 -2 -2  0       -10     0        0    0;\n",
    "      0 -1  2  0  1       -10     0        0    0;\n",
    "      1  1  0 -2  1       -10     0        0    0;\n",
    "      1  0 -2  2  0       -10     0        0    0;\n",
    "      2  0  0  2  0        10     0        0    0;\n",
    "      0  0  2  4  2       -10     0        0    0;\n",
    "      0  1  0  1  0        10     0        0    0;\n",
    "   ]\n",
    "\n",
    "\n",
    "# Mean arguments of luni-solar motion\n",
    "#\n",
    "#   l   mean anomaly of the Moon\n",
    "#   l'  mean anomaly of the Sun\n",
    "#   F   mean argument of latitude\n",
    "#   D   mean longitude elongation of the Moon from the Sun \n",
    "#   Om  mean longitude of the ascending node\n",
    "  \n",
    "  l  = mod(485866.733 + (1325.0*rev +  715922.633)*T    \n",
    "                                    + 31.310*T2 + 0.064*T3,rev)\n",
    "  lp = mod(1287099.804 + (99.0*rev + 1292581.224)*T             \n",
    "                                   - 0.577*T2 - 0.012*T3, rev )\n",
    "  F  = mod(335778.877 + (1342.0*rev + 295263.137)*T    \n",
    "                                    - 13.257*T2 + 0.011*T3,rev)\n",
    "  D  = mod(1072261.307 + (1236.0*rev +1105601.328)*T    \n",
    "                                     - 6.891*T2 + 0.019*T3,rev)\n",
    "  Om = mod(450160.280  - (5.0*rev + 482890.539)*T    \n",
    "                                  +7.455*T2 + 0.008*T3, rev )\n",
    "\n",
    "# Nutation in longitude and obliquity [rad]\n",
    "\n",
    "  deps = dpsi = 0.0\n",
    "  for i in 1:N_coeff\n",
    "    arg  =  ( C[i,1]*l+C[i,2]*lp+C[i,3]*F+C[i,4]*D+C[i,5]*Om )/Arcs\n",
    "    dpsi += ( C[i,6]+C[i,7]*T)*sin(arg)\n",
    "    deps += ( C[i,8]+C[i,9]*T)*cos(arg)\n",
    "  end\n",
    "      \n",
    "  dpsi = 1.0E-5*dpsi/Arcs\n",
    "  deps = 1.0E-5*deps/Arcs\n",
    "\n",
    "  return dpsi,deps  \n",
    "    \n",
    "end\n",
    "\n",
    "\"\"\"\n",
    "nire testa\n",
    "\n",
    "@nbinclude(\"./SAT_Time.ipynb\")\n",
    "\n",
    "Mjd0_UTC = Mjd(1999,3,1,0,0,0.0)\n",
    "(dpsi, deps)=NutAngles(Mjd0_UTC)\n",
    "\n",
    "\"\"\""
   ]
  },
  {
   "cell_type": "code",
   "execution_count": 21,
   "metadata": {},
   "outputs": [
    {
     "data": {
      "text/plain": [
       "\"testa\\n@nbinclude(\\\"./SAT_Time.ipynb\\\")\\n\\nMjd0_UTC = Mjd(1999,3,1,0,0,0.0)\\nNutMatrix(Mjd0_UTC)\\n\""
      ]
     },
     "execution_count": 21,
     "metadata": {},
     "output_type": "execute_result"
    }
   ],
   "source": [
    "function NutMatrix(Mjd_TT)\n",
    "\"\"\"\n",
    "Purpose:\n",
    "   Transformation from mean to true equator and equinox\n",
    "Input:\n",
    "   Mjd_TT    Modified Julian Date (Terrestrial Time)\n",
    "Output:    \n",
    "   Nutation matrix \n",
    "\"\"\"\n",
    "  \n",
    "  # Mean obliquity of the ecliptic\n",
    "\n",
    "  eps = MeanObliquity(Mjd_TT)\n",
    "\n",
    "  # Nutation in longitude and obliquity\n",
    "\n",
    "  (dpsi,deps)=NutAngles(Mjd_TT)\n",
    "\n",
    "  # Transformation from mean to true equator and equinox\n",
    "\n",
    "  A1=zeros(3,3)\n",
    "  A2=zeros(3,3)\n",
    "  A3=zeros(3,3)\n",
    "  R_x(A1,-eps-deps)\n",
    "  R_z(A2,-dpsi)\n",
    "  R_x(A3,+eps)\n",
    "    \n",
    "  return  A1*A2*A3\n",
    "\n",
    "end\n",
    "\n",
    "\"\"\"\n",
    "testa\n",
    "@nbinclude(\"./SAT_Time.ipynb\")\n",
    "\n",
    "Mjd0_UTC = Mjd(1999,3,1,0,0,0.0)\n",
    "NutMatrix(Mjd0_UTC)\n",
    "\"\"\""
   ]
  },
  {
   "cell_type": "markdown",
   "metadata": {},
   "source": [
    "## IERS"
   ]
  },
  {
   "cell_type": "code",
   "execution_count": null,
   "metadata": {},
   "outputs": [],
   "source": [
    "\"\"\"\n",
    "struct IERS{T}\n",
    "    TT_TAI::T\n",
    "    GSP_TAI::T\n",
    "    TT_GPS::T\n",
    "    TAI_GPS::T\n",
    "    UT1_TAI_::T\n",
    "    UTC_TAI_::T\n",
    "    x_pole_::T\n",
    "    y_pole_::T\n",
    "end\n",
    "\"\"\""
   ]
  },
  {
   "cell_type": "code",
   "execution_count": 2,
   "metadata": {},
   "outputs": [
    {
     "data": {
      "text/plain": [
       "IERS_UT1_UTC (generic function with 1 method)"
      ]
     },
     "execution_count": 2,
     "metadata": {},
     "output_type": "execute_result"
    }
   ],
   "source": [
    "function IERS_TT_UTC(Mjd_UTC,UTC_TAI_)\n",
    "\"\"\"   \n",
    "double IERS::TT_UTC (double Mjd_UTC){return  TT_TAI-UTC_TAI(Mjd_UTC);};\n",
    "       double IERS::UTC_TAI(double Mjd_UTC){return UTC_TAI_;};    \n",
    "\"\"\"\n",
    "  TT_TAI  = +32.184 \n",
    "    \n",
    "  return  TT_TAI-UTC_TAI_ \n",
    "\n",
    "end\n",
    "\n",
    "function IERS_UT1_UTC(Mjd_UTC,UT1_TAI_,UTC_TAI_)\n",
    "\"\"\"\n",
    "  double IERS::UT1_UTC(double Mjd_UTC){return UT1_TAI(Mjd_UTC)-UTC_TAI(Mjd_UTC);};  \n",
    "         double IERS::UT1_TAI(double Mjd_UTC){return UT1_TAI_;}; \n",
    "         double IERS::UTC_TAI(double Mjd_UTC){return UTC_TAI_;};\n",
    "\"\"\"\n",
    "   \n",
    "   return(UT1_TAI_-UTC_TAI_)\n",
    "    \n",
    "end"
   ]
  },
  {
   "cell_type": "code",
   "execution_count": null,
   "metadata": {},
   "outputs": [],
   "source": []
  }
 ],
 "metadata": {
  "@webio": {
   "lastCommId": null,
   "lastKernelId": null
  },
  "kernelspec": {
   "display_name": "Julia 1.5.3",
   "language": "julia",
   "name": "julia-1.5"
  },
  "language_info": {
   "file_extension": ".jl",
   "mimetype": "application/julia",
   "name": "julia",
   "version": "1.5.3"
  }
 },
 "nbformat": 4,
 "nbformat_minor": 2
}
