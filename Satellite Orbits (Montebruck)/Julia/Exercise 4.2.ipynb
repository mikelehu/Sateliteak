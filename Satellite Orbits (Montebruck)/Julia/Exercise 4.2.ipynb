{
 "cells": [
  {
   "cell_type": "markdown",
   "metadata": {},
   "source": [
    "# Exercise 4.2"
   ]
  },
  {
   "cell_type": "code",
   "execution_count": 85,
   "metadata": {},
   "outputs": [
    {
     "data": {
      "text/plain": [
       "R_z (generic function with 1 method)"
      ]
     },
     "execution_count": 85,
     "metadata": {},
     "output_type": "execute_result"
    }
   ],
   "source": [
    "using NBInclude\n",
    "using Dates\n",
    "using LinearAlgebra,Plots\n",
    "using OrdinaryDiffEq\n",
    "using Parameters # @unpack\n",
    "\n",
    "\n",
    "@nbinclude(\"./SAT_Const.ipynb\")\n",
    "@nbinclude(\"./SAT_Kepler.ipynb\")\n",
    "@nbinclude(\"./SAT_VecMat.ipynb\")"
   ]
  },
  {
   "cell_type": "markdown",
   "metadata": {},
   "source": [
    "- Satellite orbits (154.pag)\n",
    "\n",
    "Exercise 4.2 (4th-Order Gauss–Jackson Method) Implement the 4th-order\n",
    "Gauss–Jackson method (cf. Sect. 4.2.7) and integrate the second-order differen-\n",
    "tial equation r̈ = −r/r 3 of the normalized two-body problem from t 0 = 0 to\n",
    "t = 20 for an eccentricity of e = 0.1 (Test problem D1, cf. Sect. 4.1.6). De-\n",
    "termine the resulting accuracy of the state vector at the end point using n =\n",
    "{100, 300, 600, 1000, 1500, 2000, 3000, 4000} steps and count the correspond-\n",
    "ing number of function evaluations."
   ]
  },
  {
   "cell_type": "markdown",
   "metadata": {},
   "source": [
    "## 4th-Order Gauss–Jackson Method"
   ]
  },
  {
   "cell_type": "code",
   "execution_count": 86,
   "metadata": {},
   "outputs": [
    {
     "data": {
      "text/plain": [
       "GJ4P_Init! (generic function with 1 method)"
      ]
     },
     "execution_count": 86,
     "metadata": {},
     "output_type": "execute_result"
    }
   ],
   "source": [
    "function  GJ4P(problem,n,k=1)  \n",
    "    \n",
    "     @unpack u0,tspan,p,f=problem\n",
    "     t0,t1=tspan\n",
    "     T=eltype(u0)\n",
    "    \n",
    "     m=4 # order of the method\n",
    "     r0=u0[1:3]\n",
    "     v0=u0[1:3]\n",
    "     \n",
    "#        \n",
    "     h = (t1-t0)/(n*m)\n",
    "\n",
    "#    Init GJ4P\n",
    "     D=Array{Array{T,1}}(undef, m)        #Backward differences of acceleration at t\n",
    "     d=Array{Array{T,1}}(undef, m)        #Backward differences of acceleration at t+h\n",
    "     S1=zeros(3)\n",
    "     S2=zeros(3)\n",
    "     r_p=zeros(3)\n",
    "     v_p=zeros(3)\n",
    "     for i in 1:m \n",
    "        D[i]=zeros(3) \n",
    "        d[i]=zeros(3)\n",
    "     end \n",
    "    \n",
    "     GJ4P_Init!(problem,h,D,S1,S2)\n",
    "     nfcn=16\n",
    "    \n",
    "     gp=[1, 1/2, 5/12, 3/8, 251/720]\n",
    "     dp=[1, 0, 1/12,1/12,19/240,3/40]\n",
    "    \n",
    "#\n",
    "    \n",
    "     tt =  Array{T}(undef,n+1)\n",
    "     uu = Array{Array{T,1}}(undef,n+1)\n",
    "\n",
    "    #  \n",
    "     tj = t0\n",
    "     rj=copy(r0)\n",
    "     vj=copy(v0)\n",
    "     tt[1]=t0\n",
    "     uu[1]=copy(u0)    \n",
    "    \n",
    "\n",
    "    for j in 1:n\n",
    "        for i in 1:k\n",
    "          GJ4PStep!(f,tj,rj,vj,p,h,d,D,S1,S2,gp,dp,r_p,v_p) \n",
    "          nfcn+=1\n",
    "          tj = tj + h\n",
    "        end\n",
    "        tt[j+1] = tj\n",
    "        uu[j+1] = copy(vcat(rj,vj))\n",
    "    end\n",
    "    \n",
    "    println(\"steps=\",n,\",h=\", h,\",nfcn=\", nfcn)\n",
    "    DiffEqBase.build_solution(problem,GJ4P,tt,uu,retcode= :Success)\n",
    "\n",
    "    \n",
    "  end\n",
    "\n",
    "\n",
    "function GJ4PStep!(f,tj,rj,vj,p,h,d,D,S1,S2,gp,dp,r_p,v_p)    \n",
    "\n",
    "    \n",
    "#     4th order predictor\n",
    "     m=4\n",
    "\n",
    "     @. r_p = dp[1]*S2\n",
    "     for i in 3:m+2\n",
    "        @. r_p =r_p+ dp[i]*D[i-2]\n",
    "     end\n",
    "     @. r_p = (h*h)*r_p\n",
    "    \n",
    "     @. v_p = gp[1]*S1\n",
    "     for i in 2:m+1\n",
    "       @. v_p =v_p+ gp[i]*D[i-1]\n",
    "     end\n",
    "     @. v_p =h*v_p\n",
    "    \n",
    "    \n",
    "#    Update backwards difference table\n",
    "\n",
    "     f(d[1],r_p,v_p,p,tj+h)            # Acceleration at t+h\n",
    "     for i in 2:m\n",
    "            @. d[i]=d[i-1]-D[i-1]        # New differences at t+h\n",
    "     end\n",
    "     for i in 1:m\n",
    "           D[i].=d[i]                  # Update differences \n",
    "     end\n",
    "     @. S1 =S1+d[1]\n",
    "     @. S2 =S2+S1                            # Update sums\n",
    "\n",
    "#    Update independent variable and solution\n",
    "\n",
    "#      tj = tj + h  kanpoan\n",
    "      rj .= r_p\n",
    "      vj .= v_p\n",
    "   \n",
    "      return nothing\n",
    "end         \n",
    "\n",
    "\n",
    "function GJ4P_Init!(problema,h,D,S1,S2)\n",
    "    \n",
    "     @unpack u0,tspan,p,f=problema\n",
    "     t0,T=tspan\n",
    "     m=4\n",
    "    \n",
    "     # Coefficients of Moulton/Cowell correcto method    \n",
    "     gc=[1, -1/2, -1/12, -1/24, -19/720]\n",
    "     dc=[1, -1, 1/12, 0,-1/240, -1/240]\n",
    "    \n",
    "     tj_=t0\n",
    "     r0=u0[1:3]\n",
    "     v0=u0[4:6]\n",
    "     rj_=copy(r0)\n",
    "     vj_=copy(v0)\n",
    "     \n",
    "     # Create table of accelerations at past time t-3h, t-2h and t-h\n",
    "     # using RK4 Steps\n",
    "\n",
    "     f(D[1],rj_,vj_,p,tj_)\n",
    "       \n",
    "     for i in 2:m      # D[i+1]=a(t-ih)       \n",
    "        RK4Step!(f,tj_,rj_,vj_,p,-h)\n",
    "        tj_=tj_-h\n",
    "        f(D[i],rj_,vj_,p,tj_)\n",
    "     end\n",
    "\n",
    "    \n",
    "     # Compute backwards differences\n",
    "    \n",
    "     for i in 2:m\n",
    "        for j in m:i\n",
    "            @. D[j]=D[j-1]-D[j]\n",
    "        end       \n",
    "     end\n",
    "    \n",
    "     # Initialize backwards sums using 4th order GJ corrector\n",
    "    \n",
    "     @. S1=v0/h\n",
    "     for i in 2:m+1\n",
    "        @. S1=S1-gc[i]*D[i-1]\n",
    "     end\n",
    "\n",
    "     @. S2=r0/(h*h)-dc[2]*S1\n",
    "     for i in 3:m+2\n",
    "        @. S2=S2-dc[i]*D[i-2]\n",
    "     end\n",
    " \n",
    "\n",
    "     return nothing\n",
    "end"
   ]
  },
  {
   "cell_type": "code",
   "execution_count": 87,
   "metadata": {},
   "outputs": [
    {
     "data": {
      "text/plain": [
       "RK4Step! (generic function with 1 method)"
      ]
     },
     "execution_count": 87,
     "metadata": {},
     "output_type": "execute_result"
    }
   ],
   "source": [
    "function RK4Step!(f,t,r,v,p,h)\n",
    "\"\"\"\n",
    " 4th order Runge-Kutta step for 2nd order differential equation   \n",
    "\"\"\"    \n",
    "\n",
    "  T=eltype(r)\n",
    "  vv=Array{Array{T,1}}(undef, 4)   # egokiago kanpoan sortzea\n",
    "  aa=Array{Array{T,1}}(undef, 4)   # egokiago kanpoan sortzea\n",
    "\n",
    "  for i in 1:4 \n",
    "        vv[i]=zeros(3) \n",
    "        aa[i]=zeros(3)\n",
    "  end \n",
    "    \n",
    "  vv[1] .= v\n",
    "\n",
    "  f(aa[1],r,v,p,t) \n",
    "  @. vv[2] = v+h/2*aa[1]\n",
    "  f(aa[2], r+h/2*vv[1], vv[2],p, t+h/2)\n",
    "  @. vv[3] = v+h/2*aa[2] \n",
    "  f(aa[3], r+h/2*vv[2], vv[3],p, t+h/2)\n",
    "  @. vv[4] = v+h*aa[3]\n",
    "  f(aa[4], r+h*vv[3] , vv[4],p, t+h)\n",
    "\n",
    "  \n",
    "#  t = t + h    kanpoan egin\n",
    "  @. r = r + h/6*( vv[1] + 2*vv[2] + 2*vv[3] + vv[4] )\n",
    "  @. v = v + h/6*( aa[1] + 2*aa[2] + 2*aa[3] + aa[4] )\n",
    "\n",
    "  \n",
    "  return nothing\n",
    "\n",
    "end"
   ]
  },
  {
   "cell_type": "markdown",
   "metadata": {},
   "source": [
    "## Main Program"
   ]
  },
  {
   "cell_type": "code",
   "execution_count": 88,
   "metadata": {},
   "outputs": [
    {
     "data": {
      "text/plain": [
       "f_Kep6D! (generic function with 1 method)"
      ]
     },
     "execution_count": 88,
     "metadata": {},
     "output_type": "execute_result"
    }
   ],
   "source": [
    "function f_Kep6D!(du,r,v,p,t)\n",
    "\n",
    "# Second order derivative !!!\n",
    "    \n",
    "  du[1:3].=-r/norm(r)^3\n",
    "\n",
    "  return nothing\n",
    "    \n",
    "end"
   ]
  },
  {
   "cell_type": "code",
   "execution_count": 89,
   "metadata": {},
   "outputs": [],
   "source": [
    "GM    = 1.0            # Gravitational coefficient\n",
    "e     = 0.1            # Eccentricity\n",
    "t_end = 20.0           # End time\n",
    "Kep=[1.0,e,0.0,0.0,0.0,0.0]    # (a,e,i,Omega,omega,M)\n",
    "y_ref = State(GM,Kep,t_end);    # Reference solution\n",
    "\n",
    "tspan=(0.,t_end)\n",
    "u0=[1.0-e,0.0,0.0, 0.0,sqrt((1+e)/(1-e)),0.0]\n",
    "prob=ODEProblem(f_Kep6D!,u0,tspan,[]);"
   ]
  },
  {
   "cell_type": "code",
   "execution_count": 90,
   "metadata": {},
   "outputs": [
    {
     "name": "stdout",
     "output_type": "stream",
     "text": [
      "steps=100,h=0.05,nfcn=116\n",
      "100, 2.7660552298644028\n",
      "steps=300,h=0.016666666666666666,nfcn=316\n",
      "300, 2.7636711408450516\n",
      "steps=600,h=0.008333333333333333,nfcn=616\n",
      "600, 2.7638588930543877\n",
      "steps=1000,h=0.005,nfcn=1016\n",
      "1000, 2.764021688521462\n",
      "steps=1500,h=0.0033333333333333335,nfcn=1516\n",
      "1500, 2.764121800948472\n",
      "steps=2000,h=0.0025,nfcn=2016\n",
      "2000, 2.764176525038485\n",
      "steps=3000,h=0.0016666666666666668,nfcn=3016\n",
      "3000, 2.7642343565060212\n",
      "steps=4000,h=0.00125,nfcn=4016\n",
      "4000, 2.764264436385793\n"
     ]
    }
   ],
   "source": [
    "Steps= [100, 300, 600, 1000, 1500, 2000, 3000, 4000]\n",
    "#h = t_end./Steps\n",
    "\n",
    "for i in Steps\n",
    "   h=t_end/i\n",
    "   sol=GJ4P(prob,i)\n",
    "   println(i, \", \", norm(y_ref-sol.u[end]))\n",
    "end"
   ]
  },
  {
   "cell_type": "code",
   "execution_count": null,
   "metadata": {},
   "outputs": [],
   "source": []
  }
 ],
 "metadata": {
  "@webio": {
   "lastCommId": null,
   "lastKernelId": null
  },
  "kernelspec": {
   "display_name": "Julia 1.5.3",
   "language": "julia",
   "name": "julia-1.5"
  },
  "language_info": {
   "file_extension": ".jl",
   "mimetype": "application/julia",
   "name": "julia",
   "version": "1.5.3"
  }
 },
 "nbformat": 4,
 "nbformat_minor": 2
}
