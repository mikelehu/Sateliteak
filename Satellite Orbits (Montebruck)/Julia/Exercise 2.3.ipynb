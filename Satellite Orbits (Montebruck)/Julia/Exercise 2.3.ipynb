{
 "cells": [
  {
   "cell_type": "markdown",
   "metadata": {},
   "source": [
    "# Orbital Elements from Position and Velocity\n",
    "\n",
    "- Montebruck 28.orr\n",
    "- Exercise 2.3"
   ]
  },
  {
   "cell_type": "markdown",
   "metadata": {},
   "source": [
    "As has been shown, a total of six independent parameters are required to describe\n",
    "the motion of a satellite around the Earth. Two of these orbital elements (a and e)\n",
    "describe the form of the orbit, one element (M) defines the position along the orbit\n",
    "and the three others (Ω, i, and ω) finally define the orientation of the orbit in space.\n",
    "Given these six elements, it is always possible to uniquely calculate the position\n",
    "and velocity vector."
   ]
  },
  {
   "cell_type": "code",
   "execution_count": 8,
   "metadata": {},
   "outputs": [
    {
     "data": {
      "text/plain": [
       "\"const eps_mach=1.e-16\\nEccAnom(100,0.1)\\n\""
      ]
     },
     "execution_count": 8,
     "metadata": {},
     "output_type": "execute_result"
    }
   ],
   "source": [
    "using NBInclude\n",
    "using LinearAlgebra\n",
    "\n",
    "@nbinclude(\"./SAT_Kepler.ipynb\")"
   ]
  },
  {
   "cell_type": "markdown",
   "metadata": {},
   "source": [
    "## Exercise 2.3"
   ]
  },
  {
   "cell_type": "markdown",
   "metadata": {},
   "source": [
    "Compute the Keplerian elements for an Earth-orbiting satellite located at\n",
    "\n",
    "\\begin{align*}\n",
    "r=(10000,40000,-5000)\n",
    "\\end{align*}\n",
    "\n",
    "and moving at a velocity of \n",
    "\n",
    "\\begin{align*}\n",
    "v=(-1.5,1.0,-0.1)\n",
    "\\end{align*}\n"
   ]
  },
  {
   "cell_type": "code",
   "execution_count": 2,
   "metadata": {},
   "outputs": [
    {
     "data": {
      "text/plain": [
       "3.986004415e14"
      ]
     },
     "execution_count": 2,
     "metadata": {},
     "output_type": "execute_result"
    }
   ],
   "source": [
    "r=[10000.0e3,40000.0e3,-5000.0e3]   # m\n",
    "v=[-1.500e3, 1.000e3,-0.100e3]      # m/s\n",
    "GM_Earth= 398600.4415e+9;           # [m^3/s^2]; JGM3"
   ]
  },
  {
   "cell_type": "code",
   "execution_count": 3,
   "metadata": {},
   "outputs": [
    {
     "data": {
      "text/plain": [
       "(2.5015181022316396e7, 0.7079771706623247, 0.12166217595729031, 3.024483909022929, 1.5978993240827304, 2.517200959654037)"
      ]
     },
     "execution_count": 3,
     "metadata": {},
     "output_type": "execute_result"
    }
   ],
   "source": [
    "y=[r v]\n",
    "a,e,i,Omega,omega,M=Elements(GM_Earth, y)"
   ]
  },
  {
   "cell_type": "code",
   "execution_count": 7,
   "metadata": {},
   "outputs": [
    {
     "data": {
      "text/plain": [
       "(2.5015181022316396e7, 0.7079771706623247, 6.970729208730731, 173.29016319224309, 91.55288735674739, 144.22499117445693)"
      ]
     },
     "execution_count": 7,
     "metadata": {},
     "output_type": "execute_result"
    }
   ],
   "source": [
    "# Emaitzak radianetan lortzeko\n",
    "(a,e,i*180/pi,Omega*180/pi,omega*180/pi,M*180/pi)"
   ]
  },
  {
   "cell_type": "markdown",
   "metadata": {},
   "source": [
    "## Exercise 2.3 (recover cartesian coordinates)"
   ]
  },
  {
   "cell_type": "code",
   "execution_count": 9,
   "metadata": {},
   "outputs": [
    {
     "data": {
      "text/plain": [
       "2-element Array{Array{Float64,1},1}:\n",
       " [1.0000000000000007e7, 4.000000000000001e7, -5.0e6]\n",
       " [-1499.9999999999993, 1000.0, -100.0]"
      ]
     },
     "execution_count": 9,
     "metadata": {},
     "output_type": "execute_result"
    }
   ],
   "source": [
    "# Angeluak radianetan?\n",
    "Kep=[a,e,i,Omega,omega,M]\n",
    "State(GM_Earth, Kep, 0.)"
   ]
  },
  {
   "cell_type": "code",
   "execution_count": null,
   "metadata": {},
   "outputs": [],
   "source": []
  }
 ],
 "metadata": {
  "@webio": {
   "lastCommId": null,
   "lastKernelId": null
  },
  "kernelspec": {
   "display_name": "Julia 1.5.3",
   "language": "julia",
   "name": "julia-1.5"
  },
  "language_info": {
   "file_extension": ".jl",
   "mimetype": "application/julia",
   "name": "julia",
   "version": "1.5.3"
  }
 },
 "nbformat": 4,
 "nbformat_minor": 2
}
