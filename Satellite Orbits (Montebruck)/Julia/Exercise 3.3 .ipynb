{
 "cells": [
  {
   "cell_type": "markdown",
   "metadata": {},
   "source": [
    "# Execise 3.3 (Accelerations)"
   ]
  },
  {
   "cell_type": "code",
   "execution_count": 58,
   "metadata": {},
   "outputs": [
    {
     "data": {
      "text/plain": [
       "IERS_UT1_UTC (generic function with 1 method)"
      ]
     },
     "execution_count": 58,
     "metadata": {},
     "output_type": "execute_result"
    }
   ],
   "source": [
    "using NBInclude\n",
    "using Dates\n",
    "using LinearAlgebra,Plots\n",
    "\n",
    "@nbinclude(\"./SAT_Const.ipynb\")\n",
    "@nbinclude(\"./SAT_Force.ipynb\")\n",
    "@nbinclude(\"./SAT_VecMat.ipynb\")\n",
    "@nbinclude(\"./SAT_RefSys.ipynb\")"
   ]
  },
  {
   "cell_type": "markdown",
   "metadata": {},
   "source": [
    "- Satellite Orbits (pag 114)\n",
    "\n",
    "The selection of an appropriate force model for a\n",
    "specific satellite orbit requires an assessment of the various perturbations acting on\n",
    "the satellite. To first order the analytical acceleration equations may be evaluated\n",
    "and the altitude regimes determined, where certain perturbations exceed others.\n",
    "Determine the altitudes where the acceleration from the Earth’s dominant zonal\n",
    "gravity term J 20 and sectorial term J 22 equals the acceleration due to the Moon and\n",
    "Sun. In addition, determine the altitude, where the non-conservative accelerations\n",
    "due to atmospheric drag and solar radiation pressure balance (C R = 1.3, C D = 2.3)."
   ]
  },
  {
   "cell_type": "markdown",
   "metadata": {},
   "source": [
    "## Pegasus"
   ]
  },
  {
   "cell_type": "code",
   "execution_count": 66,
   "metadata": {},
   "outputs": [
    {
     "data": {
      "text/plain": [
       "Pegasus (generic function with 1 method)"
      ]
     },
     "execution_count": 66,
     "metadata": {},
     "output_type": "execute_result"
    }
   ],
   "source": [
    "function Pegasus( f,\n",
    "                  LowerBound, UpperBound, Accuracy)\n",
    "\"\"\"\n",
    " Purpose:    Root finder using the Pegasus method\n",
    "\n",
    " Input\n",
    "     PegasusFunct  Pointer to the function to be examined\n",
    "     LowerBound    Lower bound of search interval\n",
    "     UpperBound    Upper bound of search interval\n",
    "     Accuracy      Desired accuracy for the root\n",
    "\n",
    " Output\n",
    "     Root          Root found (valid only if Success is true)\n",
    "     Success       Flag indicating success of the routine\n",
    "\n",
    "\"\"\"\n",
    "\n",
    "  MaxIterat = 30 \n",
    "  \n",
    "  x1 = LowerBound\n",
    "  x2 = UpperBound\n",
    "  x3 = 0.0\n",
    "\n",
    "  f1 = f(x1)\n",
    "  f2 = f(x2)\n",
    "  f3 = 0.0\n",
    "\n",
    "  Iterat = 0\n",
    "  Success = false\n",
    "  Root    = x1\n",
    "\n",
    "  if ( f1 * f2 < 0.0 )\n",
    "\n",
    "    while (!Success && (Iterat<MaxIterat))\n",
    "        \n",
    "      # Approximation of the root by interpolation  \n",
    "      x3 = x2 - f2/( (f2-f1)/(x2-x1) )\n",
    "      f3 = f(x3)\n",
    "\n",
    "      # Replace (x1,f1) and (x2,f2) by new values, such that\n",
    "      # the root is again within the interval [x1,x2]\n",
    "      if ( f3 * f2 <= 0.0 ) \n",
    "        # Root in [x2,x3]\n",
    "        x1 = x2\n",
    "        f1 = f2 \n",
    "        x2 = x3\n",
    "        f2 = f3 \n",
    "      else \n",
    "        # Root in [x1,x3]            \n",
    "        f1 = f1 * f2/(f2+f3)  # Replace (x1,f1) by (x1,f1')\n",
    "        x2 = x3\n",
    "        f2 = f3    \n",
    "      end\n",
    "\n",
    "      if (abs(f1) < abs(f2))\n",
    "        Root = x1\n",
    "      else\n",
    "        Root = x2\n",
    "      end\n",
    "\n",
    "      Success = (abs(x2-x1) <= Accuracy)\n",
    "      Iterat+=1\n",
    "    \n",
    "    end\n",
    "\n",
    "  end\n",
    "    \n",
    "  return(Root,Success)\n",
    "\n",
    "                    \n",
    " end"
   ]
  },
  {
   "cell_type": "markdown",
   "metadata": {},
   "source": [
    "## Main"
   ]
  },
  {
   "cell_type": "code",
   "execution_count": 3,
   "metadata": {},
   "outputs": [
    {
     "data": {
      "text/plain": [
       "GravModel{Float64}(20, 3.986004415e14, 6.3781363e6, [1.0 0.0 … 7.160542e-11 2.759192e-9; 0.0 0.0 … -1.008909e-10 3.216826e-10; … ; -2.197334e-8 -3.156695e-9 … -9.155723e-31 -1.237749e-31; 1.203146e-7 3.688524e-9 … -1.878413e-31 4.054696e-32])"
      ]
     },
     "execution_count": 3,
     "metadata": {},
     "output_type": "execute_result"
    }
   ],
   "source": [
    "N_JGM3 = 20\n",
    "GM_Earth = 398600.4415e+9 \n",
    "R_JGM3 = 6378.1363e3   # // Radius Earth [m]; \n",
    "CS_JGM3=zeros(N_JGM3+1,N_JGM3+1)\n",
    "CS_JGM3!(CS_JGM3,Float64)\n",
    "\n",
    "GravJGM3=GravModel{Float64}(N_JGM3,GM_Earth,R_JGM3,CS_JGM3)"
   ]
  },
  {
   "cell_type": "code",
   "execution_count": 7,
   "metadata": {},
   "outputs": [
    {
     "data": {
      "text/plain": [
       "(:N, :GM, :R, :CS)"
      ]
     },
     "execution_count": 7,
     "metadata": {},
     "output_type": "execute_result"
    }
   ],
   "source": [
    "fieldnames(typeof(GravJGM3))"
   ]
  },
  {
   "cell_type": "code",
   "execution_count": 57,
   "metadata": {},
   "outputs": [
    {
     "name": "stdout",
     "output_type": "stream",
     "text": [
      "lon=0.0,lat=0.0,height=149.9992999999998\n",
      "lon=0.0,lat=0.0,height=1999.9992999999997\n"
     ]
    },
    {
     "data": {
      "text/plain": [
       "(0.15341603259326977, -5.928000000000001e-6)"
      ]
     },
     "execution_count": 57,
     "metadata": {},
     "output_type": "execute_result"
    }
   ],
   "source": [
    "(A_Diff(h1), A_Diff(h2))"
   ]
  },
  {
   "cell_type": "code",
   "execution_count": 56,
   "metadata": {},
   "outputs": [
    {
     "data": {
      "text/plain": [
       "A_Diff (generic function with 1 method)"
      ]
     },
     "execution_count": 56,
     "metadata": {},
     "output_type": "execute_result"
    }
   ],
   "source": [
    "function A_Diff(h)\n",
    "\"\"\"\n",
    "  Function computes the difference of acceleration due to SRP and DRG\n",
    "    \n",
    "\"\"\"    \n",
    "  CD     =     2.3      #Spacecraft parameters\n",
    "  CR     =     1.3\n",
    "  Mjd_TT = 51269.0      #State epoch\n",
    "\n",
    "  r = [1.0, 0.0, 0.0]*(GravJGM3.R + h)\n",
    "  dens = Density_HP(Mjd_TT,r)\n",
    "\n",
    "  return (0.5*CD*dens*GravJGM3.GM/(GravJGM3.R + h))-(P_Sol*CR)\n",
    "\n",
    "end"
   ]
  },
  {
   "cell_type": "code",
   "execution_count": 13,
   "metadata": {},
   "outputs": [],
   "source": [
    "const r_Moon = 384400.0e+03  # Geocentric Moon distance [m]\n",
    "const J20_norm =  4.841e-04  # Normalized geopotential coefficients\n",
    "const J22_norm =  2.812e-06\n",
    "\n",
    "const h1  =  150.0e+3        # Start of interval [m]\n",
    "const h2  = 2000.0e+3        # Stop of interval [m]\n",
    "const eps =  100.0;          # Accuracy [m]  "
   ]
  },
  {
   "cell_type": "code",
   "execution_count": 70,
   "metadata": {},
   "outputs": [
    {
     "data": {
      "text/plain": [
       "750.4211699193136"
      ]
     },
     "execution_count": 70,
     "metadata": {},
     "output_type": "execute_result"
    }
   ],
   "source": [
    "#Balance of accelerations due to drag and solar radiation pressure\n",
    "(Root,Success)=Pegasus(A_Diff, h1, h2, eps)\n",
    "Root/1.e3"
   ]
  },
  {
   "cell_type": "code",
   "execution_count": 72,
   "metadata": {},
   "outputs": [
    {
     "data": {
      "text/plain": [
       "8750.075531877797"
      ]
     },
     "execution_count": 72,
     "metadata": {},
     "output_type": "execute_result"
    }
   ],
   "source": [
    "#Balance of accelerations due to J22 and Moon\n",
    "r5 = 3.0/2.0 * GravJGM3.GM/GM_Moon * (GravJGM3.R)^2 * r_Moon^3 * J22_norm;\n",
    "r = r5^(0.2)\n",
    "(r - GravJGM3.R)/1.e3"
   ]
  },
  {
   "cell_type": "code",
   "execution_count": 74,
   "metadata": {},
   "outputs": [
    {
     "data": {
      "text/plain": [
       "11297.673064575658"
      ]
     },
     "execution_count": 74,
     "metadata": {},
     "output_type": "execute_result"
    }
   ],
   "source": [
    "#Balance of accelerations due to J22 and Sun\n",
    "r5 = 3.0/2.0 * GravJGM3.GM/GM_Sun * GravJGM3.R^2 * AU^3 * J22_norm;\n",
    "r = r5^0.2\n",
    "(r - GravJGM3.R)/1.e3"
   ]
  },
  {
   "cell_type": "code",
   "execution_count": 75,
   "metadata": {},
   "outputs": [
    {
     "data": {
      "text/plain": [
       "35983.38520365431"
      ]
     },
     "execution_count": 75,
     "metadata": {},
     "output_type": "execute_result"
    }
   ],
   "source": [
    "#Balance of accelerations due to J20 and Moon\n",
    "r5 = 3.0/2.0 * GravJGM3.GM/GM_Moon * (GravJGM3.R)^2 * r_Moon^3 * J20_norm;\n",
    "r = r5^(0.2)\n",
    "(r - GravJGM3.R)/1.e3"
   ]
  },
  {
   "cell_type": "code",
   "execution_count": 76,
   "metadata": {},
   "outputs": [
    {
     "data": {
      "text/plain": [
       "43117.08407456981"
      ]
     },
     "execution_count": 76,
     "metadata": {},
     "output_type": "execute_result"
    }
   ],
   "source": [
    "# Balance of accelerations due to J20 and Sun\n",
    "r5 = 3.0/2.0 * GravJGM3.GM/GM_Sun * GravJGM3.R^2 * AU^3 * J20_norm;\n",
    "r = r5^0.2\n",
    "(r - GravJGM3.R)/1.e3"
   ]
  },
  {
   "cell_type": "code",
   "execution_count": null,
   "metadata": {},
   "outputs": [],
   "source": []
  }
 ],
 "metadata": {
  "@webio": {
   "lastCommId": null,
   "lastKernelId": null
  },
  "kernelspec": {
   "display_name": "Julia 1.5.3",
   "language": "julia",
   "name": "julia-1.5"
  },
  "language_info": {
   "file_extension": ".jl",
   "mimetype": "application/julia",
   "name": "julia",
   "version": "1.5.3"
  }
 },
 "nbformat": 4,
 "nbformat_minor": 2
}
